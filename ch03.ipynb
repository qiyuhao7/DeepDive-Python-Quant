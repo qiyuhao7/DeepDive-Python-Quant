{
 "cells": [
  {
   "cell_type": "code",
   "execution_count": 1,
   "id": "bee4222f-15df-4664-9d04-49fd51d42199",
   "metadata": {
    "tags": []
   },
   "outputs": [],
   "source": [
    "from sklearn.datasets import load_iris\n",
    "from sklearn.neighbors import KNeighborsClassifier\n",
    "import matplotlib.pyplot as plt\n",
    "import seaborn as sns"
   ]
  },
  {
   "cell_type": "code",
   "execution_count": 2,
   "id": "7d7cc44a-2740-4dae-950f-412e6b826d37",
   "metadata": {},
   "outputs": [
    {
     "data": {
      "text/plain": [
       "dict_keys(['data', 'target', 'frame', 'target_names', 'DESCR', 'feature_names', 'filename', 'data_module'])"
      ]
     },
     "execution_count": 2,
     "metadata": {},
     "output_type": "execute_result"
    }
   ],
   "source": [
    "iris = load_iris()\n",
    "iris.keys()\n"
   ]
  },
  {
   "cell_type": "code",
   "execution_count": 3,
   "id": "93eb1eed-de63-4862-b3d3-c438f1a4b1f8",
   "metadata": {
    "tags": []
   },
   "outputs": [
    {
     "data": {
      "text/plain": [
       "['sepal length (cm)',\n",
       " 'sepal width (cm)',\n",
       " 'petal length (cm)',\n",
       " 'petal width (cm)']"
      ]
     },
     "execution_count": 3,
     "metadata": {},
     "output_type": "execute_result"
    }
   ],
   "source": [
    "iris.feature_names"
   ]
  },
  {
   "cell_type": "code",
   "execution_count": 4,
   "id": "8591a53b-9588-4f36-a67f-3a1d123d02ec",
   "metadata": {
    "tags": []
   },
   "outputs": [
    {
     "data": {
      "text/plain": [
       "array([0, 0, 0, 0, 0, 0, 0, 0, 0, 0, 0, 0, 0, 0, 0, 0, 0, 0, 0, 0, 0, 0,\n",
       "       0, 0, 0, 0, 0, 0, 0, 0, 0, 0, 0, 0, 0, 0, 0, 0, 0, 0, 0, 0, 0, 0,\n",
       "       0, 0, 0, 0, 0, 0, 1, 1, 1, 1, 1, 1, 1, 1, 1, 1, 1, 1, 1, 1, 1, 1,\n",
       "       1, 1, 1, 1, 1, 1, 1, 1, 1, 1, 1, 1, 1, 1, 1, 1, 1, 1, 1, 1, 1, 1,\n",
       "       1, 1, 1, 1, 1, 1, 1, 1, 1, 1, 1, 1, 2, 2, 2, 2, 2, 2, 2, 2, 2, 2,\n",
       "       2, 2, 2, 2, 2, 2, 2, 2, 2, 2, 2, 2, 2, 2, 2, 2, 2, 2, 2, 2, 2, 2,\n",
       "       2, 2, 2, 2, 2, 2, 2, 2, 2, 2, 2, 2, 2, 2, 2, 2, 2, 2])"
      ]
     },
     "execution_count": 4,
     "metadata": {},
     "output_type": "execute_result"
    }
   ],
   "source": [
    "iris.target"
   ]
  },
  {
   "cell_type": "code",
   "execution_count": 5,
   "id": "66feec06-f271-4b1a-9517-15e46a9e755a",
   "metadata": {
    "tags": []
   },
   "outputs": [
    {
     "data": {
      "text/plain": [
       "(150, 4)"
      ]
     },
     "execution_count": 5,
     "metadata": {},
     "output_type": "execute_result"
    }
   ],
   "source": [
    "X, y = iris.data, iris.target\n",
    "X.shape"
   ]
  },
  {
   "cell_type": "code",
   "execution_count": 6,
   "id": "920ee8c6-3ce1-45aa-bf55-19b3149fd5c4",
   "metadata": {
    "tags": []
   },
   "outputs": [],
   "source": [
    "from sklearn.model_selection import train_test_split\n",
    "X_train, X_test, y_train, y_test = train_test_split(X, y)"
   ]
  },
  {
   "cell_type": "code",
   "execution_count": 7,
   "id": "b2b564e3-2366-415a-9a5a-1194f341fa8d",
   "metadata": {
    "tags": []
   },
   "outputs": [
    {
     "data": {
      "text/plain": [
       "(112, 4)"
      ]
     },
     "execution_count": 7,
     "metadata": {},
     "output_type": "execute_result"
    }
   ],
   "source": [
    "X_train.shape"
   ]
  },
  {
   "cell_type": "code",
   "execution_count": 8,
   "id": "dfb8feba-8aa5-43dd-a460-e31b1b8b87f0",
   "metadata": {
    "tags": []
   },
   "outputs": [
    {
     "data": {
      "text/plain": [
       "(38, 4)"
      ]
     },
     "execution_count": 8,
     "metadata": {},
     "output_type": "execute_result"
    }
   ],
   "source": [
    "X_test.shape"
   ]
  },
  {
   "cell_type": "code",
   "execution_count": 9,
   "id": "09a0e86c-6336-4870-8eda-e446e62b95c3",
   "metadata": {
    "tags": []
   },
   "outputs": [
    {
     "name": "stdout",
     "output_type": "stream",
     "text": [
      "训练集准确率：0.97\n",
      "验证集准确率：0.95\n"
     ]
    }
   ],
   "source": [
    "knn_clf = KNeighborsClassifier()\n",
    "knn_clf.fit(X_train, y_train)\n",
    "print('训练集准确率：%.2f'%knn_clf.score(X_train, y_train))\n",
    "print('验证集准确率：%.2f'%knn_clf.score(X_test, y_test))\n"
   ]
  },
  {
   "cell_type": "code",
   "execution_count": 10,
   "id": "60eab7e3-5e24-4531-8f2d-638ed4f7c659",
   "metadata": {
    "tags": []
   },
   "outputs": [
    {
     "data": {
      "text/plain": [
       "{'n_neighbors': 6}"
      ]
     },
     "execution_count": 10,
     "metadata": {},
     "output_type": "execute_result"
    }
   ],
   "source": [
    "from sklearn.model_selection import GridSearchCV\n",
    "n_neighbors = tuple(range(1, 11, 1))\n",
    "cv = GridSearchCV(estimator=KNeighborsClassifier(),\n",
    "                  param_grid= {'n_neighbors':n_neighbors}, cv = 5)\n",
    "cv.fit(X, y)\n",
    "cv.best_params_"
   ]
  },
  {
   "cell_type": "code",
   "execution_count": 11,
   "id": "9b793a6d-d2f3-4769-9bc7-8d3596617d9e",
   "metadata": {
    "tags": []
   },
   "outputs": [
    {
     "name": "stdout",
     "output_type": "stream",
     "text": [
      "训练集准确率：0.96\n",
      "验证集准确率：0.95\n"
     ]
    }
   ],
   "source": [
    "knn_clf = KNeighborsClassifier(n_neighbors=6)\n",
    "knn_clf.fit(X_train, y_train)\n",
    "print('训练集准确率：%.2f'%knn_clf.score(X_train, y_train))\n",
    "print('验证集准确率：%.2f'%knn_clf.score(X_test, y_test))\n"
   ]
  },
  {
   "cell_type": "code",
   "execution_count": 12,
   "id": "8f6469a7-999c-4936-84ac-7f861ac9ae97",
   "metadata": {
    "tags": []
   },
   "outputs": [
    {
     "data": {
      "text/plain": [
       "dict_keys(['data', 'target', 'frame', 'target_names', 'feature_names', 'DESCR'])"
      ]
     },
     "execution_count": 12,
     "metadata": {},
     "output_type": "execute_result"
    }
   ],
   "source": [
    "from sklearn.datasets import fetch_california_housing\n",
    "boston = fetch_california_housing()\n",
    "boston.keys()"
   ]
  },
  {
   "cell_type": "code",
   "execution_count": 13,
   "id": "e18e39fd-6372-4767-8351-0a9d6c130c8d",
   "metadata": {
    "tags": []
   },
   "outputs": [
    {
     "data": {
      "text/plain": [
       "['MedInc',\n",
       " 'HouseAge',\n",
       " 'AveRooms',\n",
       " 'AveBedrms',\n",
       " 'Population',\n",
       " 'AveOccup',\n",
       " 'Latitude',\n",
       " 'Longitude']"
      ]
     },
     "execution_count": 13,
     "metadata": {},
     "output_type": "execute_result"
    }
   ],
   "source": [
    "boston.feature_names"
   ]
  },
  {
   "cell_type": "code",
   "execution_count": 14,
   "id": "249d4a59-5a11-4153-a1c6-d764c3d6d3ce",
   "metadata": {
    "tags": []
   },
   "outputs": [
    {
     "data": {
      "text/plain": [
       "array([4.526, 3.585, 3.521, 3.413, 3.422, 2.697, 2.992, 2.414, 2.267,\n",
       "       2.611])"
      ]
     },
     "execution_count": 14,
     "metadata": {},
     "output_type": "execute_result"
    }
   ],
   "source": [
    "boston.target[:10]\n"
   ]
  },
  {
   "cell_type": "code",
   "execution_count": 15,
   "id": "19817112-e3bb-4e3e-89c5-781e04289abb",
   "metadata": {
    "tags": []
   },
   "outputs": [
    {
     "data": {
      "text/plain": [
       "(15480, 8)"
      ]
     },
     "execution_count": 15,
     "metadata": {},
     "output_type": "execute_result"
    }
   ],
   "source": [
    "X, y = boston.data, boston.target\n",
    "X_train, X_test, y_train, y_test = train_test_split(X, y)\n",
    "X_train.shape\n",
    "\n"
   ]
  },
  {
   "cell_type": "code",
   "execution_count": 16,
   "id": "e5c549f4-f9c2-4ad4-a5b2-1d7713be8e48",
   "metadata": {
    "tags": []
   },
   "outputs": [
    {
     "name": "stdout",
     "output_type": "stream",
     "text": [
      "训练集准确率：0.45\n",
      "验证集准确率：0.15\n"
     ]
    }
   ],
   "source": [
    "from sklearn.neighbors import KNeighborsRegressor\n",
    "knn_reg = KNeighborsRegressor()\n",
    "knn_reg.fit(X_train, y_train)\n",
    "print('训练集准确率：%.2f'%knn_reg.score(X_train, y_train))\n",
    "print('验证集准确率：%.2f'%knn_reg.score(X_test, y_test))\n"
   ]
  },
  {
   "cell_type": "code",
   "execution_count": 17,
   "id": "c1e3ffd3-3de5-499c-af34-7b2edbf075dd",
   "metadata": {
    "tags": []
   },
   "outputs": [
    {
     "data": {
      "text/plain": [
       "{'n_neighbors': 10}"
      ]
     },
     "execution_count": 17,
     "metadata": {},
     "output_type": "execute_result"
    }
   ],
   "source": [
    "n_neighbors = tuple(range(1, 12, 1))\n",
    "cv_reg = GridSearchCV(estimator= KNeighborsRegressor(),\n",
    "                      param_grid={'n_neighbors':n_neighbors}, cv = 5)\n",
    "cv_reg.fit(X, y)\n",
    "cv_reg.best_params_"
   ]
  },
  {
   "cell_type": "code",
   "execution_count": 18,
   "id": "7f82ad08-d24b-42bc-b21c-1c846e90e3ea",
   "metadata": {
    "tags": []
   },
   "outputs": [
    {
     "data": {
      "text/plain": [
       "0.9800000000000001"
      ]
     },
     "execution_count": 18,
     "metadata": {},
     "output_type": "execute_result"
    }
   ],
   "source": [
    "cv.best_score_"
   ]
  },
  {
   "cell_type": "code",
   "execution_count": 19,
   "id": "9f4ffc14-391d-46af-8042-a0dc6bb88d36",
   "metadata": {
    "tags": []
   },
   "outputs": [],
   "source": [
    "import pandas as pd\n",
    "import pandas_datareader.data as web\n",
    "import numpy as np"
   ]
  },
  {
   "cell_type": "code",
   "execution_count": 20,
   "id": "605b4575-a075-4791-8eb8-a186b2957eec",
   "metadata": {
    "tags": []
   },
   "outputs": [],
   "source": [
    "def load_stock(start_date, end_date, output_file):\n",
    "    try:\n",
    "        df = pd.read_pickle(output_file)\n",
    "        print('载入数据完毕')\n",
    "    except FileNotFoundError:\n",
    "        print('文件未找到')\n",
    "        import yfinance as yf\n",
    "        yf.pdr_override()\n",
    "        df = web.get_data_yahoo(['601318.ss'], start=start_date, end=end_date)\n",
    "        df.to_pickle(output_file)\n",
    "        print('下载完成')\n",
    "    return df"
   ]
  },
  {
   "cell_type": "code",
   "execution_count": 25,
   "id": "21071562-44d0-40ce-8c97-c9617bfc6dad",
   "metadata": {
    "tags": []
   },
   "outputs": [
    {
     "name": "stdout",
     "output_type": "stream",
     "text": [
      "文件未找到\n",
      "[*********************100%%**********************]  1 of 1 completed\n",
      "下载完成\n"
     ]
    }
   ],
   "source": [
    "zgpa = load_stock(start_date='2017-03-09',\n",
    "                  end_date='2020-03-05',\n",
    "                  output_file = '601318.pkl')"
   ]
  },
  {
   "cell_type": "code",
   "execution_count": 27,
   "id": "1f1bb29c-1d45-4a2c-ba65-6add22056c7e",
   "metadata": {
    "tags": []
   },
   "outputs": [
    {
     "data": {
      "text/html": [
       "<div>\n",
       "<style scoped>\n",
       "    .dataframe tbody tr th:only-of-type {\n",
       "        vertical-align: middle;\n",
       "    }\n",
       "\n",
       "    .dataframe tbody tr th {\n",
       "        vertical-align: top;\n",
       "    }\n",
       "\n",
       "    .dataframe thead th {\n",
       "        text-align: right;\n",
       "    }\n",
       "</style>\n",
       "<table border=\"1\" class=\"dataframe\">\n",
       "  <thead>\n",
       "    <tr style=\"text-align: right;\">\n",
       "      <th></th>\n",
       "      <th>Open</th>\n",
       "      <th>High</th>\n",
       "      <th>Low</th>\n",
       "      <th>Close</th>\n",
       "      <th>Adj Close</th>\n",
       "      <th>Volume</th>\n",
       "    </tr>\n",
       "    <tr>\n",
       "      <th>Date</th>\n",
       "      <th></th>\n",
       "      <th></th>\n",
       "      <th></th>\n",
       "      <th></th>\n",
       "      <th></th>\n",
       "      <th></th>\n",
       "    </tr>\n",
       "  </thead>\n",
       "  <tbody>\n",
       "    <tr>\n",
       "      <th>2017-03-09</th>\n",
       "      <td>35.770000</td>\n",
       "      <td>35.799999</td>\n",
       "      <td>35.500000</td>\n",
       "      <td>35.779999</td>\n",
       "      <td>28.580835</td>\n",
       "      <td>37796652</td>\n",
       "    </tr>\n",
       "    <tr>\n",
       "      <th>2017-03-10</th>\n",
       "      <td>35.709999</td>\n",
       "      <td>35.770000</td>\n",
       "      <td>35.580002</td>\n",
       "      <td>35.599998</td>\n",
       "      <td>28.437052</td>\n",
       "      <td>20744676</td>\n",
       "    </tr>\n",
       "    <tr>\n",
       "      <th>2017-03-13</th>\n",
       "      <td>35.599998</td>\n",
       "      <td>36.040001</td>\n",
       "      <td>35.560001</td>\n",
       "      <td>35.970001</td>\n",
       "      <td>28.732611</td>\n",
       "      <td>35999002</td>\n",
       "    </tr>\n",
       "    <tr>\n",
       "      <th>2017-03-14</th>\n",
       "      <td>35.990002</td>\n",
       "      <td>36.130001</td>\n",
       "      <td>35.810001</td>\n",
       "      <td>35.939999</td>\n",
       "      <td>28.708643</td>\n",
       "      <td>27696420</td>\n",
       "    </tr>\n",
       "    <tr>\n",
       "      <th>2017-03-15</th>\n",
       "      <td>35.880001</td>\n",
       "      <td>36.000000</td>\n",
       "      <td>35.759998</td>\n",
       "      <td>35.959999</td>\n",
       "      <td>28.724619</td>\n",
       "      <td>26872050</td>\n",
       "    </tr>\n",
       "  </tbody>\n",
       "</table>\n",
       "</div>"
      ],
      "text/plain": [
       "                 Open       High        Low      Close  Adj Close    Volume\n",
       "Date                                                                       \n",
       "2017-03-09  35.770000  35.799999  35.500000  35.779999  28.580835  37796652\n",
       "2017-03-10  35.709999  35.770000  35.580002  35.599998  28.437052  20744676\n",
       "2017-03-13  35.599998  36.040001  35.560001  35.970001  28.732611  35999002\n",
       "2017-03-14  35.990002  36.130001  35.810001  35.939999  28.708643  27696420\n",
       "2017-03-15  35.880001  36.000000  35.759998  35.959999  28.724619  26872050"
      ]
     },
     "execution_count": 27,
     "metadata": {},
     "output_type": "execute_result"
    }
   ],
   "source": [
    "zgpa.head()"
   ]
  },
  {
   "cell_type": "code",
   "execution_count": 44,
   "id": "d7838ea5-ddfb-4851-9878-5dfd10dabd68",
   "metadata": {
    "tags": []
   },
   "outputs": [],
   "source": [
    "def classification_tc(df):\n",
    "    df['Open-Close'] = df['Open'] - df['Close']\n",
    "    df['High-Low'] = df['High'] - df['Low']\n",
    "    df['target'] = np.where(df['Close'].shift(-1) > df['Close'], 1, -1)\n",
    "    df = df.dropna()\n",
    "    X = df[['Open-Close', 'High-Low']]\n",
    "    y = df['target']\n",
    "    return (df, X,y)"
   ]
  },
  {
   "cell_type": "code",
   "execution_count": 45,
   "id": "37fcaf8e-15cd-4fac-bc52-c8086c56cbb9",
   "metadata": {
    "tags": []
   },
   "outputs": [],
   "source": [
    "def regression_tc(df):\n",
    "    df['Open-Close'] = df['Open'] - df['Close']\n",
    "    df['High-Low'] = df['High'] - df['Low']\n",
    "    df['target'] = df['Close'].shift(-1) - df['Close']\n",
    "    df = df.dropna()\n",
    "    X = df[['Open-Close', 'High-Low']]\n",
    "    y = df['target']\n",
    "    return (df, X,y)"
   ]
  },
  {
   "cell_type": "code",
   "execution_count": 46,
   "id": "f774cbd6-305d-4cfb-9b94-b7d74a24427f",
   "metadata": {
    "tags": []
   },
   "outputs": [],
   "source": [
    "df, X, y = classification_tc(zgpa)"
   ]
  },
  {
   "cell_type": "code",
   "execution_count": 47,
   "id": "0ea7b270-8e4e-4090-8d8f-c7df2c1888cb",
   "metadata": {
    "tags": []
   },
   "outputs": [],
   "source": [
    "X_train, X_test, y_train, y_test = train_test_split(X, y, train_size=0.8)"
   ]
  },
  {
   "cell_type": "code",
   "execution_count": 48,
   "id": "7bdb43e8-82fd-4f73-827a-f02358a5d3aa",
   "metadata": {
    "tags": []
   },
   "outputs": [
    {
     "name": "stdout",
     "output_type": "stream",
     "text": [
      "0.5379310344827586\n",
      "0.4931506849315068\n"
     ]
    }
   ],
   "source": [
    "knn_clf = KNeighborsClassifier(n_neighbors=95)\n",
    "knn_clf.fit(X_train, y_train)\n",
    "print(knn_clf.score(X_train, y_train))\n",
    "print(knn_clf.score(X_test, y_test))"
   ]
  },
  {
   "cell_type": "code",
   "execution_count": 49,
   "id": "58a99952-1664-4368-ac97-2c28d213a32a",
   "metadata": {
    "tags": []
   },
   "outputs": [
    {
     "data": {
      "text/html": [
       "<div>\n",
       "<style scoped>\n",
       "    .dataframe tbody tr th:only-of-type {\n",
       "        vertical-align: middle;\n",
       "    }\n",
       "\n",
       "    .dataframe tbody tr th {\n",
       "        vertical-align: top;\n",
       "    }\n",
       "\n",
       "    .dataframe thead th {\n",
       "        text-align: right;\n",
       "    }\n",
       "</style>\n",
       "<table border=\"1\" class=\"dataframe\">\n",
       "  <thead>\n",
       "    <tr style=\"text-align: right;\">\n",
       "      <th></th>\n",
       "      <th>Open</th>\n",
       "      <th>High</th>\n",
       "      <th>Low</th>\n",
       "      <th>Close</th>\n",
       "      <th>Adj Close</th>\n",
       "      <th>Volume</th>\n",
       "      <th>Open-Close</th>\n",
       "      <th>High-Low</th>\n",
       "      <th>target</th>\n",
       "      <th>Predict_Signal</th>\n",
       "      <th>Return</th>\n",
       "    </tr>\n",
       "    <tr>\n",
       "      <th>Date</th>\n",
       "      <th></th>\n",
       "      <th></th>\n",
       "      <th></th>\n",
       "      <th></th>\n",
       "      <th></th>\n",
       "      <th></th>\n",
       "      <th></th>\n",
       "      <th></th>\n",
       "      <th></th>\n",
       "      <th></th>\n",
       "      <th></th>\n",
       "    </tr>\n",
       "  </thead>\n",
       "  <tbody>\n",
       "    <tr>\n",
       "      <th>2017-03-09</th>\n",
       "      <td>35.770000</td>\n",
       "      <td>35.799999</td>\n",
       "      <td>35.500000</td>\n",
       "      <td>35.779999</td>\n",
       "      <td>29.169281</td>\n",
       "      <td>37796652</td>\n",
       "      <td>-0.009998</td>\n",
       "      <td>0.299999</td>\n",
       "      <td>-1</td>\n",
       "      <td>1</td>\n",
       "      <td>NaN</td>\n",
       "    </tr>\n",
       "    <tr>\n",
       "      <th>2017-03-10</th>\n",
       "      <td>35.709999</td>\n",
       "      <td>35.770000</td>\n",
       "      <td>35.580002</td>\n",
       "      <td>35.599998</td>\n",
       "      <td>29.022537</td>\n",
       "      <td>20744676</td>\n",
       "      <td>0.110001</td>\n",
       "      <td>0.189999</td>\n",
       "      <td>1</td>\n",
       "      <td>1</td>\n",
       "      <td>-0.005043</td>\n",
       "    </tr>\n",
       "    <tr>\n",
       "      <th>2017-03-13</th>\n",
       "      <td>35.599998</td>\n",
       "      <td>36.040001</td>\n",
       "      <td>35.560001</td>\n",
       "      <td>35.970001</td>\n",
       "      <td>29.324186</td>\n",
       "      <td>35999002</td>\n",
       "      <td>-0.370003</td>\n",
       "      <td>0.480000</td>\n",
       "      <td>-1</td>\n",
       "      <td>1</td>\n",
       "      <td>0.010340</td>\n",
       "    </tr>\n",
       "    <tr>\n",
       "      <th>2017-03-14</th>\n",
       "      <td>35.990002</td>\n",
       "      <td>36.130001</td>\n",
       "      <td>35.810001</td>\n",
       "      <td>35.939999</td>\n",
       "      <td>29.299719</td>\n",
       "      <td>27696420</td>\n",
       "      <td>0.050003</td>\n",
       "      <td>0.320000</td>\n",
       "      <td>1</td>\n",
       "      <td>1</td>\n",
       "      <td>-0.000834</td>\n",
       "    </tr>\n",
       "    <tr>\n",
       "      <th>2017-03-15</th>\n",
       "      <td>35.880001</td>\n",
       "      <td>36.000000</td>\n",
       "      <td>35.759998</td>\n",
       "      <td>35.959999</td>\n",
       "      <td>29.316025</td>\n",
       "      <td>26872050</td>\n",
       "      <td>-0.079998</td>\n",
       "      <td>0.240002</td>\n",
       "      <td>1</td>\n",
       "      <td>1</td>\n",
       "      <td>0.000556</td>\n",
       "    </tr>\n",
       "  </tbody>\n",
       "</table>\n",
       "</div>"
      ],
      "text/plain": [
       "                 Open       High        Low      Close  Adj Close    Volume  \\\n",
       "Date                                                                          \n",
       "2017-03-09  35.770000  35.799999  35.500000  35.779999  29.169281  37796652   \n",
       "2017-03-10  35.709999  35.770000  35.580002  35.599998  29.022537  20744676   \n",
       "2017-03-13  35.599998  36.040001  35.560001  35.970001  29.324186  35999002   \n",
       "2017-03-14  35.990002  36.130001  35.810001  35.939999  29.299719  27696420   \n",
       "2017-03-15  35.880001  36.000000  35.759998  35.959999  29.316025  26872050   \n",
       "\n",
       "            Open-Close  High-Low  target  Predict_Signal    Return  \n",
       "Date                                                                \n",
       "2017-03-09   -0.009998  0.299999      -1               1       NaN  \n",
       "2017-03-10    0.110001  0.189999       1               1 -0.005043  \n",
       "2017-03-13   -0.370003  0.480000      -1               1  0.010340  \n",
       "2017-03-14    0.050003  0.320000       1               1 -0.000834  \n",
       "2017-03-15   -0.079998  0.240002       1               1  0.000556  "
      ]
     },
     "execution_count": 49,
     "metadata": {},
     "output_type": "execute_result"
    }
   ],
   "source": [
    "df['Predict_Signal'] = knn_clf.predict(X)\n",
    "df['Return'] = np.log(df['Close']/df['Close'].shift(1))\n",
    "df.head()"
   ]
  },
  {
   "cell_type": "code",
   "execution_count": 58,
   "id": "2388595e-7102-44cd-b80d-115408996af5",
   "metadata": {
    "tags": []
   },
   "outputs": [],
   "source": [
    "def get_cum_return(df, split_value):\n",
    "    cum_returns = df[split_value:]['Return'].cumsum()*100\n",
    "    return cum_returns"
   ]
  },
  {
   "cell_type": "code",
   "execution_count": 59,
   "id": "3ec3bd2b-add6-4ddc-bda4-a4fb011bef7e",
   "metadata": {
    "tags": []
   },
   "outputs": [],
   "source": [
    "def get_strategy_return(df, split_value):\n",
    "    df['Strategy_Return'] = df['Return']*df['Predict_Signal'].shift(1)\n",
    "    cum_strategy_return = df[split_value:]['Strategy_Return'].cumsum()*100\n",
    "    return cum_strategy_return"
   ]
  },
  {
   "cell_type": "code",
   "execution_count": 60,
   "id": "6bc5a4b8-2a93-4986-9d19-2f3f5063f749",
   "metadata": {
    "tags": []
   },
   "outputs": [],
   "source": [
    "def plot_chart(cum_return, cum_strategy_return, symbol):\n",
    "    plt.figure(figsize=(9,6))\n",
    "    plt.plot(cum_return, '--', label='%s Returns'%symbol)\n",
    "    plt.plot(cum_strategy_return, label='Strategy Returns')\n",
    "    plt.legend()\n",
    "    plt.show()"
   ]
  },
  {
   "cell_type": "code",
   "execution_count": 61,
   "id": "dca76b0d-a7a3-4a6d-b521-8617fdf0f244",
   "metadata": {
    "tags": []
   },
   "outputs": [
    {
     "data": {
      "image/png": "[encoded data removed]",
      "text/plain": [
       "<Figure size 900x600 with 1 Axes>"
      ]
     },
     "metadata": {},
     "output_type": "display_data"
    }
   ],
   "source": [
    "cum_return = get_cum_return(df, split_value=len(X_train))\n",
    "cum_strategy_return = strategy_return(df, split_value=len(X_train))\n",
    "plot_chart(cum_return, cum_strategy_return, 'zgpa')"
   ]
  },
  {
   "cell_type": "code",
   "execution_count": null,
   "id": "3d857c84-cfd7-4767-9dd4-6a127562acc5",
   "metadata": {},
   "outputs": [],
   "source": []
  }
 ],
 "metadata": {
  "kernelspec": {
   "display_name": "Python 3 (ipykernel)",
   "language": "python",
   "name": "python3"
  },
  "language_info": {
   "codemirror_mode": {
    "name": "ipython",
    "version": 3
   },
   "file_extension": ".py",
   "mimetype": "text/x-python",
   "name": "python",
   "nbconvert_exporter": "python",
   "pygments_lexer": "ipython3",
   "version": "3.10.13"
  }
 },
 "nbformat": 4,
 "nbformat_minor": 5
}
