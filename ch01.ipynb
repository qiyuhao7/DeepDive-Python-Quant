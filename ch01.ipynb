{
 "cells": [
  {
   "cell_type": "code",
   "execution_count": 1,
   "id": "29444f5f-e7d9-4347-88cf-09cb60119595",
   "metadata": {
    "tags": []
   },
   "outputs": [],
   "source": [
    "import pandas_datareader.data as webdata\n",
    "import datetime\n",
    "import pandas as pd\n",
    "import yfinance"
   ]
  },
  {
   "cell_type": "code",
   "execution_count": 2,
   "id": "81aaa4f1-5eb4-486c-bd7a-ea2b43d8b125",
   "metadata": {
    "tags": []
   },
   "outputs": [],
   "source": [
    "yfinance.pdr_override()"
   ]
  },
  {
   "cell_type": "code",
   "execution_count": 3,
   "id": "3de83245-79f2-4d92-9a28-9d733d687019",
   "metadata": {
    "tags": []
   },
   "outputs": [],
   "source": [
    "start_day = datetime.datetime(2020, 1, 1)\n",
    "end_day = datetime.datetime(2020, 3, 18)"
   ]
  },
  {
   "cell_type": "code",
   "execution_count": 4,
   "id": "de809848-b2f4-40df-a98d-e41d4ac4df65",
   "metadata": {
    "tags": []
   },
   "outputs": [
    {
     "name": "stdout",
     "output_type": "stream",
     "text": [
      "[*********************100%%**********************]  1 of 1 completed\n",
      "                 Open       High        Low      Close  Adj Close    Volume\n",
      "Date                                                                       \n",
      "2020-01-02  85.900002  86.790001  85.879997  86.120003  72.726860  77825207\n",
      "2020-01-03  86.809998  86.879997  85.900002  86.199997  72.794411  59498001\n",
      "2020-01-06  85.919998  86.870003  85.500000  85.599998  72.287727  63644804\n",
      "2020-01-07  86.010002  86.459999  85.669998  86.150002  72.752190  45218832\n",
      "2020-01-08  85.000000  85.000000  85.000000  85.000000  71.781029  62805311\n"
     ]
    }
   ],
   "source": [
    "data = webdata.get_data_yahoo('601318.ss', start_day, end_day)\n",
    "print(data.head())"
   ]
  },
  {
   "cell_type": "code",
   "execution_count": 21,
   "id": "6a0a1c30-5844-49b2-b42e-22b57d8f8dbf",
   "metadata": {
    "tags": []
   },
   "outputs": [
    {
     "data": {
      "text/html": [
       "<div>\n",
       "<style scoped>\n",
       "    .dataframe tbody tr th:only-of-type {\n",
       "        vertical-align: middle;\n",
       "    }\n",
       "\n",
       "    .dataframe tbody tr th {\n",
       "        vertical-align: top;\n",
       "    }\n",
       "\n",
       "    .dataframe thead th {\n",
       "        text-align: right;\n",
       "    }\n",
       "</style>\n",
       "<table border=\"1\" class=\"dataframe\">\n",
       "  <thead>\n",
       "    <tr style=\"text-align: right;\">\n",
       "      <th></th>\n",
       "      <th>Open</th>\n",
       "      <th>High</th>\n",
       "      <th>Low</th>\n",
       "      <th>Close</th>\n",
       "      <th>Adj Close</th>\n",
       "      <th>Volume</th>\n",
       "      <th>diff</th>\n",
       "    </tr>\n",
       "    <tr>\n",
       "      <th>Date</th>\n",
       "      <th></th>\n",
       "      <th></th>\n",
       "      <th></th>\n",
       "      <th></th>\n",
       "      <th></th>\n",
       "      <th></th>\n",
       "      <th></th>\n",
       "    </tr>\n",
       "  </thead>\n",
       "  <tbody>\n",
       "    <tr>\n",
       "      <th>2020-01-02</th>\n",
       "      <td>85.900002</td>\n",
       "      <td>86.790001</td>\n",
       "      <td>85.879997</td>\n",
       "      <td>86.120003</td>\n",
       "      <td>72.726868</td>\n",
       "      <td>77825207</td>\n",
       "      <td>NaN</td>\n",
       "    </tr>\n",
       "    <tr>\n",
       "      <th>2020-01-03</th>\n",
       "      <td>86.809998</td>\n",
       "      <td>86.879997</td>\n",
       "      <td>85.900002</td>\n",
       "      <td>86.199997</td>\n",
       "      <td>72.794411</td>\n",
       "      <td>59498001</td>\n",
       "      <td>0.079994</td>\n",
       "    </tr>\n",
       "    <tr>\n",
       "      <th>2020-01-06</th>\n",
       "      <td>85.919998</td>\n",
       "      <td>86.870003</td>\n",
       "      <td>85.500000</td>\n",
       "      <td>85.599998</td>\n",
       "      <td>72.287720</td>\n",
       "      <td>63644804</td>\n",
       "      <td>-0.599998</td>\n",
       "    </tr>\n",
       "    <tr>\n",
       "      <th>2020-01-07</th>\n",
       "      <td>86.010002</td>\n",
       "      <td>86.459999</td>\n",
       "      <td>85.669998</td>\n",
       "      <td>86.150002</td>\n",
       "      <td>72.752197</td>\n",
       "      <td>45218832</td>\n",
       "      <td>0.550003</td>\n",
       "    </tr>\n",
       "    <tr>\n",
       "      <th>2020-01-08</th>\n",
       "      <td>85.000000</td>\n",
       "      <td>85.000000</td>\n",
       "      <td>85.000000</td>\n",
       "      <td>85.000000</td>\n",
       "      <td>71.781036</td>\n",
       "      <td>62805311</td>\n",
       "      <td>-1.150002</td>\n",
       "    </tr>\n",
       "  </tbody>\n",
       "</table>\n",
       "</div>"
      ],
      "text/plain": [
       "                 Open       High        Low      Close  Adj Close    Volume  \\\n",
       "Date                                                                          \n",
       "2020-01-02  85.900002  86.790001  85.879997  86.120003  72.726868  77825207   \n",
       "2020-01-03  86.809998  86.879997  85.900002  86.199997  72.794411  59498001   \n",
       "2020-01-06  85.919998  86.870003  85.500000  85.599998  72.287720  63644804   \n",
       "2020-01-07  86.010002  86.459999  85.669998  86.150002  72.752197  45218832   \n",
       "2020-01-08  85.000000  85.000000  85.000000  85.000000  71.781036  62805311   \n",
       "\n",
       "                diff  \n",
       "Date                  \n",
       "2020-01-02       NaN  \n",
       "2020-01-03  0.079994  \n",
       "2020-01-06 -0.599998  \n",
       "2020-01-07  0.550003  \n",
       "2020-01-08 -1.150002  "
      ]
     },
     "execution_count": 21,
     "metadata": {},
     "output_type": "execute_result"
    }
   ],
   "source": [
    "data['diff'] = data['Close'].diff()\n",
    "data.head()"
   ]
  },
  {
   "cell_type": "code",
   "execution_count": 22,
   "id": "74daf61a-5a62-4d85-b26a-02289e1e5f6a",
   "metadata": {
    "tags": []
   },
   "outputs": [
    {
     "data": {
      "text/html": [
       "<div>\n",
       "<style scoped>\n",
       "    .dataframe tbody tr th:only-of-type {\n",
       "        vertical-align: middle;\n",
       "    }\n",
       "\n",
       "    .dataframe tbody tr th {\n",
       "        vertical-align: top;\n",
       "    }\n",
       "\n",
       "    .dataframe thead th {\n",
       "        text-align: right;\n",
       "    }\n",
       "</style>\n",
       "<table border=\"1\" class=\"dataframe\">\n",
       "  <thead>\n",
       "    <tr style=\"text-align: right;\">\n",
       "      <th></th>\n",
       "      <th>Open</th>\n",
       "      <th>High</th>\n",
       "      <th>Low</th>\n",
       "      <th>Close</th>\n",
       "      <th>Adj Close</th>\n",
       "      <th>Volume</th>\n",
       "      <th>diff</th>\n",
       "      <th>Signal</th>\n",
       "    </tr>\n",
       "    <tr>\n",
       "      <th>Date</th>\n",
       "      <th></th>\n",
       "      <th></th>\n",
       "      <th></th>\n",
       "      <th></th>\n",
       "      <th></th>\n",
       "      <th></th>\n",
       "      <th></th>\n",
       "      <th></th>\n",
       "    </tr>\n",
       "  </thead>\n",
       "  <tbody>\n",
       "    <tr>\n",
       "      <th>2020-01-02</th>\n",
       "      <td>85.900002</td>\n",
       "      <td>86.790001</td>\n",
       "      <td>85.879997</td>\n",
       "      <td>86.120003</td>\n",
       "      <td>72.726868</td>\n",
       "      <td>77825207</td>\n",
       "      <td>NaN</td>\n",
       "      <td>0</td>\n",
       "    </tr>\n",
       "    <tr>\n",
       "      <th>2020-01-03</th>\n",
       "      <td>86.809998</td>\n",
       "      <td>86.879997</td>\n",
       "      <td>85.900002</td>\n",
       "      <td>86.199997</td>\n",
       "      <td>72.794411</td>\n",
       "      <td>59498001</td>\n",
       "      <td>0.079994</td>\n",
       "      <td>1</td>\n",
       "    </tr>\n",
       "    <tr>\n",
       "      <th>2020-01-06</th>\n",
       "      <td>85.919998</td>\n",
       "      <td>86.870003</td>\n",
       "      <td>85.500000</td>\n",
       "      <td>85.599998</td>\n",
       "      <td>72.287720</td>\n",
       "      <td>63644804</td>\n",
       "      <td>-0.599998</td>\n",
       "      <td>0</td>\n",
       "    </tr>\n",
       "    <tr>\n",
       "      <th>2020-01-07</th>\n",
       "      <td>86.010002</td>\n",
       "      <td>86.459999</td>\n",
       "      <td>85.669998</td>\n",
       "      <td>86.150002</td>\n",
       "      <td>72.752197</td>\n",
       "      <td>45218832</td>\n",
       "      <td>0.550003</td>\n",
       "      <td>1</td>\n",
       "    </tr>\n",
       "    <tr>\n",
       "      <th>2020-01-08</th>\n",
       "      <td>85.000000</td>\n",
       "      <td>85.000000</td>\n",
       "      <td>85.000000</td>\n",
       "      <td>85.000000</td>\n",
       "      <td>71.781036</td>\n",
       "      <td>62805311</td>\n",
       "      <td>-1.150002</td>\n",
       "      <td>0</td>\n",
       "    </tr>\n",
       "  </tbody>\n",
       "</table>\n",
       "</div>"
      ],
      "text/plain": [
       "                 Open       High        Low      Close  Adj Close    Volume  \\\n",
       "Date                                                                          \n",
       "2020-01-02  85.900002  86.790001  85.879997  86.120003  72.726868  77825207   \n",
       "2020-01-03  86.809998  86.879997  85.900002  86.199997  72.794411  59498001   \n",
       "2020-01-06  85.919998  86.870003  85.500000  85.599998  72.287720  63644804   \n",
       "2020-01-07  86.010002  86.459999  85.669998  86.150002  72.752197  45218832   \n",
       "2020-01-08  85.000000  85.000000  85.000000  85.000000  71.781036  62805311   \n",
       "\n",
       "                diff  Signal  \n",
       "Date                          \n",
       "2020-01-02       NaN       0  \n",
       "2020-01-03  0.079994       1  \n",
       "2020-01-06 -0.599998       0  \n",
       "2020-01-07  0.550003       1  \n",
       "2020-01-08 -1.150002       0  "
      ]
     },
     "execution_count": 22,
     "metadata": {},
     "output_type": "execute_result"
    }
   ],
   "source": [
    "import numpy as np\n",
    "data['Signal'] = np.where(data['diff'] > 0, 1, 0)\n",
    "data.head()"
   ]
  },
  {
   "cell_type": "code",
   "execution_count": 23,
   "id": "350ff468-2a34-4325-995a-80e3f1c14122",
   "metadata": {
    "tags": []
   },
   "outputs": [
    {
     "data": {
      "image/png": "[encoded data removed]",
      "text/plain": [
       "<Figure size 1000x500 with 1 Axes>"
      ]
     },
     "metadata": {},
     "output_type": "display_data"
    }
   ],
   "source": [
    "import matplotlib.pyplot as plt\n",
    "plt.figure(figsize=(10, 5))\n",
    "data['Close'].plot(linewidth=2, color='k', grid=True)\n",
    "plt.scatter(data['Close'].loc[data.Signal==1].index, data['Close'][data.Signal==1], marker='v', s=80, c='g')\n",
    "plt.scatter(data['Close'].loc[data.Signal==0].index, data['Close'][data.Signal==0], marker='^', s=80, c='r')\n",
    "plt.show()"
   ]
  },
  {
   "cell_type": "code",
   "execution_count": null,
   "id": "7a6e98f4-980f-4f5d-a23e-46c4ede4bc9b",
   "metadata": {},
   "outputs": [],
   "source": []
  }
 ],
 "metadata": {
  "kernelspec": {
   "display_name": "Python 3 (ipykernel)",
   "language": "python",
   "name": "python3"
  },
  "language_info": {
   "codemirror_mode": {
    "name": "ipython",
    "version": 3
   },
   "file_extension": ".py",
   "mimetype": "text/x-python",
   "name": "python",
   "nbconvert_exporter": "python",
   "pygments_lexer": "ipython3",
   "version": "3.10.13"
  }
 },
 "nbformat": 4,
 "nbformat_minor": 5
}
